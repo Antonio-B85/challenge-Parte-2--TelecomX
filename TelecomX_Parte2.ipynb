{
  "nbformat": 4,
  "nbformat_minor": 0,
  "metadata": {
    "colab": {
      "provenance": [],
      "include_colab_link": true
    },
    "kernelspec": {
      "name": "python3",
      "display_name": "Python 3"
    },
    "language_info": {
      "name": "python"
    }
  },
  "cells": [
    {
      "cell_type": "markdown",
      "metadata": {
        "id": "view-in-github",
        "colab_type": "text"
      },
      "source": [
        "<a href=\"https://colab.research.google.com/github/Antonio-B85/challenge-Parte-2--TelecomX/blob/main/TelecomX_Parte2.ipynb\" target=\"_parent\"><img src=\"https://colab.research.google.com/assets/colab-badge.svg\" alt=\"Open In Colab\"/></a>"
      ]
    },
    {
      "cell_type": "markdown",
      "source": [
        "# 1.- Librerías Básicas"
      ],
      "metadata": {
        "id": "Pdw8mhRol5Ti"
      }
    },
    {
      "cell_type": "code",
      "execution_count": 1,
      "metadata": {
        "id": "ebDDAJMQhzjg"
      },
      "outputs": [],
      "source": [
        "# importar librerías\n",
        "import numpy as np\n",
        "import pandas as pd\n",
        "import matplotlib.pyplot as plt\n",
        "import seaborn as sns\n",
        "from sklearn.model_selection import KFold, cross_validate\n",
        "from sklearn.metrics import classification_report\n",
        "\n",
        "import warnings\n",
        "\n",
        "warnings.filterwarnings('ignore')\n",
        "\n",
        "# Ajustar la configuración para mostrar todas las columnas\n",
        "pd.set_option('display.max_columns', None)\n",
        "# Ajustar la configuración para mostrar todas las filas\n",
        "pd.set_option('display.max_rows', None)\n",
        "# Ajustar la configuración para mostrar más caracteres en cada celda\n",
        "pd.set_option('display.max_colwidth', None)\n"
      ]
    }
  ]
}